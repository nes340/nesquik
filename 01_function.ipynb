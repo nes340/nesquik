{
 "cells": [
  {
   "cell_type": "markdown",
   "metadata": {},
   "source": [
    "### 문자열 함수\n",
    "- 대/소문자: upper(), lower(), title()\n",
    "- 공백제거: strip(), lstrip(), rstrip(), strip({text})\n",
    "- 치환: replace('기존','새로운 문자열')\n",
    "- 나누기: split()"
   ]
  },
  {
   "cell_type": "code",
   "execution_count": 29,
   "metadata": {},
   "outputs": [
    {
     "name": "stdout",
     "output_type": "stream",
     "text": [
      "True\n"
     ]
    }
   ],
   "source": [
    "# Python에서 제공하는 내장함수 \n",
    "\n",
    "# 문자열 함수 \n",
    "\n",
    "# 문자열을 대문자/소문자 형태로 변환 \n",
    "\n",
    "x = 'A'\n",
    "y = 'a'\n",
    "\n",
    "# 이 지점에서 x와 y는 다름 \n",
    "\n",
    "y = y.upper()\n",
    "print(x==y)\n"
   ]
  },
  {
   "cell_type": "code",
   "execution_count": 30,
   "metadata": {},
   "outputs": [],
   "source": [
    "# x를 소문자 변화\n",
    "# x.lower() : print를 적지 않더라도 Jupyter는 값이 변화할 테니 자동적으로 값을 확인해보라는 차원에서 출력을 함. (데이터 변화는 없음)\n",
    "# x = x.lower() 를 치면 아무 것도 안 나옴. "
   ]
  },
  {
   "cell_type": "code",
   "execution_count": 31,
   "metadata": {},
   "outputs": [],
   "source": [
    "a = 'Hello world'\n",
    "\n",
    "# 단어의 첫 글자만 대문자로 변화\n",
    "a = a.title()"
   ]
  },
  {
   "cell_type": "code",
   "execution_count": 32,
   "metadata": {},
   "outputs": [
    {
     "data": {
      "text/plain": [
       "'ello Worl'"
      ]
     },
     "execution_count": 32,
     "metadata": {},
     "output_type": "execute_result"
    }
   ],
   "source": [
    "# 공백을 제거하는 함수 \n",
    "text = ' Hello World    '\n",
    "text2 = 'Hello World'\n",
    "text == text2\n",
    "\n",
    "# strip(): 좌우의 공백을 제거\n",
    "# lstrip(), rstrip(): 좌/우의 공백을 제거\n",
    "# strip({text}): 좌우의 'text'를 제거한다 \n",
    "\n",
    "text.lstrip()  # print를 쓰면 공백이 잘 보이지 않음. \n",
    "text.rstrip()\n",
    "text.strip()\n",
    "text.strip().strip('H''d')"
   ]
  },
  {
   "cell_type": "code",
   "execution_count": 33,
   "metadata": {},
   "outputs": [
    {
     "data": {
      "text/plain": [
       "'Hi World'"
      ]
     },
     "execution_count": 33,
     "metadata": {},
     "output_type": "execute_result"
    }
   ],
   "source": [
    "# 선택한 문자열을 다른 문자열로 치환해주는 함수\n",
    "# replace({선택한 문자열},{변경할 문자열})\n",
    "text2.replace('Hello','Hi')"
   ]
  },
  {
   "cell_type": "code",
   "execution_count": 34,
   "metadata": {},
   "outputs": [
    {
     "data": {
      "text/plain": [
       "'Herro Worrd'"
      ]
     },
     "execution_count": 34,
     "metadata": {},
     "output_type": "execute_result"
    }
   ],
   "source": [
    "# replace를 이용해서 공백을 제거\n",
    "text.replace(' ','')\n",
    "text2.replace('l','r')"
   ]
  },
  {
   "cell_type": "code",
   "execution_count": 35,
   "metadata": {},
   "outputs": [
    {
     "data": {
      "text/plain": [
       "['1', '2', '3', '4', '5']"
      ]
     },
     "execution_count": 35,
     "metadata": {},
     "output_type": "execute_result"
    }
   ],
   "source": [
    "# 특정한 문자열을 기준으로 데이터를 나눠줌 \n",
    "# split({특정한 문자열}) \n",
    "# split(): 공백을 기준으로 데이터를 나눠준다\n",
    "a = '1,2,3,4,5'\n",
    "a.split(',')"
   ]
  },
  {
   "cell_type": "code",
   "execution_count": 36,
   "metadata": {},
   "outputs": [
    {
     "data": {
      "text/plain": [
       "['a', 'b', 'c', 'd', 'e']"
      ]
     },
     "execution_count": 36,
     "metadata": {},
     "output_type": "execute_result"
    }
   ],
   "source": [
    "b = 'a b c d e'\n",
    "b.split()"
   ]
  },
  {
   "cell_type": "markdown",
   "metadata": {},
   "source": [
    "### 함수\n",
    "- 입력값을 가지고 작업을 실행해서 결과물을 되돌려준다. \n",
    "- def 키워드로 함수를 선언\n",
    "    - 함수를 선언하는 과정에서 필요한 입력 값은 매개변수로 생성\n",
    "    - 함수를 호출하는 과정에서 매개변수에 들어갈 입력 값을 '인자'"
   ]
  },
  {
   "cell_type": "code",
   "execution_count": 37,
   "metadata": {},
   "outputs": [],
   "source": [
    "# 매개변수가 존재하지 않는 함수를 선언: 함수는 같은 행동을 하고, 같은 값을 되돌려 줄 거임. \n",
    "\n",
    "def func_1(): \n",
    "    result = 'Hello World'      # 함수에서 특정한 데이터를 되돌려줌 \n",
    "    return result \n"
   ]
  },
  {
   "cell_type": "code",
   "execution_count": 38,
   "metadata": {},
   "outputs": [
    {
     "name": "stdout",
     "output_type": "stream",
     "text": [
      "Hello World\n",
      "Hello World\n",
      "Hello World\n"
     ]
    }
   ],
   "source": [
    "print(func_1())\n",
    "print(func_1())\n",
    "print(func_1())"
   ]
  },
  {
   "cell_type": "code",
   "execution_count": 41,
   "metadata": {},
   "outputs": [
    {
     "name": "stdout",
     "output_type": "stream",
     "text": [
      "1\n",
      "a\n",
      "True\n"
     ]
    }
   ],
   "source": [
    "# 매개변수가 존재하는 함수를 선언\n",
    "def func_2(x): \n",
    "    return(x)\n",
    "\n",
    "print(func_2(1))\n",
    "print(func_2('a'))\n",
    "print(func_2(True))\n"
   ]
  },
  {
   "cell_type": "code",
   "execution_count": 44,
   "metadata": {},
   "outputs": [
    {
     "name": "stdout",
     "output_type": "stream",
     "text": [
      "func\n"
     ]
    }
   ],
   "source": [
    "# 매개변수의 기본값 선언:\n",
    "def func_2(x = 'func'):     \n",
    "    return(x)\n",
    "\n",
    "print(func_2())\n"
   ]
  },
  {
   "cell_type": "code",
   "execution_count": 64,
   "metadata": {},
   "outputs": [
    {
     "name": "stdout",
     "output_type": "stream",
     "text": [
      "15\n",
      "25\n",
      "32\n"
     ]
    }
   ],
   "source": [
    "def func_3(x = 0,y = 0):\n",
    "    result = x + y\n",
    "    return result\n",
    "\n",
    "print(func_3(15,))\n",
    "\n",
    "def func_4(a,b):\n",
    "    result = a**b \n",
    "    return result\n",
    "\n",
    "print(func_4(5,2))\n",
    "print(func_4(b=5, a=2))"
   ]
  },
  {
   "cell_type": "code",
   "execution_count": 67,
   "metadata": {},
   "outputs": [
    {
     "name": "stdout",
     "output_type": "stream",
     "text": [
      "55\n",
      "5050\n"
     ]
    }
   ],
   "source": [
    "# 함수를 생성 / 매개변수 2개(x,y)\n",
    "# x부터 y까지의 합계를 되돌려주는 함수를 생성\n",
    "\n",
    "def func_5(x,y):\n",
    "    result = 0\n",
    "    for i in range(x,y+1,1):\n",
    "        result += i\n",
    "        i +=1 \n",
    "    return result\n",
    "\n",
    "# 함수 안에 for/while 반복문 시 주의: return은 반복문을 종료시키겠다는 의미니, 필히 위치 파악\n",
    "# (일반적으로는 함수 첫 번째 라인 i.e. 반복문 밖에 위치함)\n",
    "\n",
    "print(func_5(1,10))\n",
    "print(func_5(1,100))"
   ]
  },
  {
   "cell_type": "code",
   "execution_count": 81,
   "metadata": {},
   "outputs": [
    {
     "name": "stdout",
     "output_type": "stream",
     "text": [
      "Tuna\n",
      "Tuna\n",
      "Tuna\n",
      "Tuna\n"
     ]
    }
   ],
   "source": [
    "def fnn(x,y):\n",
    "    i = 0\n",
    "    while i < y:\n",
    "        print(x)\n",
    "        i += 1 \n",
    "\n",
    "fnn('Tuna',4)"
   ]
  },
  {
   "cell_type": "code",
   "execution_count": 98,
   "metadata": {},
   "outputs": [
    {
     "name": "stdout",
     "output_type": "stream",
     "text": [
      "55\n",
      "19\n",
      "0\n"
     ]
    }
   ],
   "source": [
    "# 위 합을 구하는 함수는 func_5(101,100) 같이 '앞에 더 큰 숫자가 올 때' 반복문을 구동시키지 못해서 0이 나옴. \n",
    "# func_6을 쓰기; 매개변수 둘 (x,y) \n",
    "# () 합계라는 변수를 생성; 초기값 지정  \n",
    "# (1) x가 y보다 작다면 \n",
    "    # x부터 y+1까지 반복하는 반복문을 생성하기  : result에 i의 값을 누적합\n",
    "# (2) x가 y보다 크거나 작다면\n",
    "    # y부터 x+1까지 반복하는 반복문을 생성하기  : result에 i의 값이 누적함 \n",
    "\n",
    "def func_6(x=0,y=0):\n",
    "    result = 0 \n",
    "    if (x < y):                        # (   ) 쓰는 거 추천함 \n",
    "        for i in range(x,y+1,1):\n",
    "            result += i      \n",
    "    else:\n",
    "        for i in range(y,x+1,1):\n",
    "            result += i\n",
    "    return result\n",
    "\n",
    "print(func_6(1,10))\n",
    "print(func_6(10,9))\n",
    "print(func_6())"
   ]
  },
  {
   "cell_type": "code",
   "execution_count": 100,
   "metadata": {},
   "outputs": [
    {
     "name": "stdout",
     "output_type": "stream",
     "text": [
      "55\n",
      "55\n"
     ]
    }
   ],
   "source": [
    "def func_7(x,y):\n",
    "    result = 0 \n",
    "\n",
    "    # 두 개의 값 중 작은 값을 되돌려주는 함수: min()\n",
    "    # 두 개의 값 중 큰 값을 되돌려주는 함수: max()\n",
    "    for i in range(min(x,y),max(x,y)+1,1):\n",
    "        result += i\n",
    "    return result\n",
    "\n",
    "print(func_7(1,10))\n",
    "print(func_7(10,1))"
   ]
  },
  {
   "cell_type": "code",
   "execution_count": 101,
   "metadata": {},
   "outputs": [
    {
     "name": "stdout",
     "output_type": "stream",
     "text": [
      "(1, 2, 3)\n",
      "('a', 'b')\n",
      "()\n"
     ]
    }
   ],
   "source": [
    "# 인자의 개수가 바뀔 수 있을 때 \n",
    "def func_8(*args): \n",
    "    return args\n",
    "\n",
    "print(func_8(1,2,3))\n",
    "print(func_8('a','b'))\n",
    "print(func_8())"
   ]
  },
  {
   "cell_type": "code",
   "execution_count": 103,
   "metadata": {},
   "outputs": [
    {
     "name": "stdout",
     "output_type": "stream",
     "text": [
      "15\n",
      "45\n"
     ]
    }
   ],
   "source": [
    "# 인자 값들의 합계를 구하는 함수 생성 : 인자 개수는 가변이고 인자값들을 모두 더해주는 함수\n",
    "def func_9(*args):\n",
    "    result = 0      # args의 데이터 타입은 튜플 / # 합계라는 변수 생성\n",
    "\n",
    "    for i in args:  \n",
    "        result += i\n",
    "\n",
    "    return result \n",
    "\n",
    "print(func_9(3,5,7))\n",
    "print(func_9(1,2,3,4,5,6,7,8,9))"
   ]
  },
  {
   "cell_type": "code",
   "execution_count": 106,
   "metadata": {},
   "outputs": [
    {
     "name": "stdout",
     "output_type": "stream",
     "text": [
      "46\n"
     ]
    }
   ],
   "source": [
    "def func_10(*args):\n",
    "    result = 0\n",
    "    i = 0\n",
    "    while i < len(args):\n",
    "        result += args[i]\n",
    "        i += 1\n",
    "    return result\n",
    "\n",
    "print(func_10(1,2,43))"
   ]
  },
  {
   "cell_type": "code",
   "execution_count": 107,
   "metadata": {},
   "outputs": [
    {
     "data": {
      "text/plain": [
       "10"
      ]
     },
     "execution_count": 107,
     "metadata": {},
     "output_type": "execute_result"
    }
   ],
   "source": [
    "# 매개변수에 자료형 데이터를 입력 \n",
    "# 합계를 구하는 함수\n",
    "\n",
    "def func_11(input_x):\n",
    "    result = 0 \n",
    "    for i in input_x:\n",
    "        result += i\n",
    "    return result               # 여기서 실행이 되는 순간 result는 값을 되돌려주고 사라져버림 \n",
    "\n",
    "print(func_11([1,2,3,4]))       # tuple, dictionary 도 상관없음 \n",
    "print(result)                   # ??? 요렇게 하면 안 됨 \n",
    "print(input_x)"
   ]
  },
  {
   "cell_type": "markdown",
   "metadata": {},
   "source": [
    "### 변수 - 데이터가 저장되어 있는 공간의 이름 - 의 종류 \n",
    "1. 전역 변수\n",
    " - 어디서든 사용이 가능한 변수 \n",
    " - 함수 내부에서든 외부에서든 사용이 가능 (들여쓰기 없이 선언한 변수)\n",
    "2. 지역 변수\n",
    "  - 특정한 영역에서만 사용이 가능한 변수 \n",
    "  - 함수, 클래스 안에서만 사용이 가능한 변수 \n",
    "  - 해당 영역을 벗어나면 사용이 불가능\n",
    "3. 매개 변수 \n",
    " - 함수를 선언할 때 만드는 변수 \n",
    " - 함수 내에서 인자값을 받아서 사용하기 위한 변수 \n",
    " - 함수 밖에서는 사용이 불가능 : 휘발성 데이터 "
   ]
  },
  {
   "cell_type": "code",
   "execution_count": 109,
   "metadata": {},
   "outputs": [
    {
     "name": "stdout",
     "output_type": "stream",
     "text": [
      "Hello World\n",
      "Hi\n"
     ]
    }
   ],
   "source": [
    "text = 'Hello World'        # text는 전역변수\n",
    "print(text)\n",
    "\n",
    "def func_12():\n",
    "    _text = 'Hi'\n",
    "    return _text            # _text는 들여쓰기한 공간에서만 적용되는 지역변수  \n",
    "print(func_12())\n",
    "print(_text)                "
   ]
  },
  {
   "cell_type": "code",
   "execution_count": 132,
   "metadata": {},
   "outputs": [
    {
     "name": "stdout",
     "output_type": "stream",
     "text": [
      "[1, 4, 9]\n",
      "[1, 4, 9, 16]\n",
      "[484, 1936]\n"
     ]
    }
   ],
   "source": [
    "# 함수 문제\n",
    "# 함수를 생성 (매개변수는 x 1개 > 입력값은 배열 데이터)\n",
    "    # 비어있는 리스트를 생성\n",
    "    # 배열데이터를 반복하는 반복문을 생성 \n",
    "        # 배열 데이터를 하나씩 추출하여 제곱한 뒤 비어있는 리스트에 추가    \n",
    "    # 비어있는 리스트를 되돌려준다. \n",
    "\n",
    "def func_sq1(x): \n",
    "    a = []\n",
    "    i = 0\n",
    "    for i in range(0,len(x),1):\n",
    "        a.append(x[i]**2)\n",
    "    return a \n",
    "\n",
    "m = [1,2,3]\n",
    "print(func_sq1(m))        \n",
    "\n",
    "# 정답\n",
    "def func_13(x):\n",
    "    result = []\n",
    "    for i in x: \n",
    "        result.append(i**2)\n",
    "    return result\n",
    "print(func_13([1,2,3,4]))\n",
    "\n",
    "# 정답(while 문)\n",
    "def func_14(x):\n",
    "    result = []\n",
    "    i = 0\n",
    "\n",
    "    while i < len(x): \n",
    "        result.append(x[i]**2)\n",
    "        i += 1\n",
    "    return result\n",
    "print(func_14([22,44]))"
   ]
  },
  {
   "cell_type": "code",
   "execution_count": 133,
   "metadata": {},
   "outputs": [
    {
     "name": "stdout",
     "output_type": "stream",
     "text": [
      "[1, 4, 9, 16]\n"
     ]
    }
   ],
   "source": [
    "a = [1,2,3,4]\n",
    "\n",
    "def func_15(x):\n",
    "    result = x ** 2\n",
    "    return result       # 지역변수 result\n",
    "\n",
    "result = []             # 전역변수 result \n",
    "\n",
    "for i in a: \n",
    "    result.append(func_15(i))\n",
    "print(result) "
   ]
  },
  {
   "cell_type": "code",
   "execution_count": 134,
   "metadata": {},
   "outputs": [
    {
     "name": "stdout",
     "output_type": "stream",
     "text": [
      "[1, 4, 9, 16]\n"
     ]
    }
   ],
   "source": [
    "# map 함수 \n",
    "# map({호출할 함수명},{리스트명})\n",
    "# 리스트의 데이터 하나씩 함수에 대입하여 새로운 값들로 만들어준다. (datatype: map)\n",
    "# list() 함수를 이용하여 배열의 형태로 변경 \n",
    "print(list(map(func_15,a)))             # map은 인자값을 별도로 선언할 필요가 없음. "
   ]
  },
  {
   "cell_type": "code",
   "execution_count": 135,
   "metadata": {},
   "outputs": [
    {
     "data": {
      "text/plain": [
       "[1, 4, 9, 16]"
      ]
     },
     "execution_count": 135,
     "metadata": {},
     "output_type": "execute_result"
    }
   ],
   "source": [
    "# lambda 함수 // 함수의 행동이 단순할 때 // 데이터형 자료에 적합\n",
    "# 함수를 선언함과 동시에 호출하는 작업. \n",
    "list(\n",
    "    map(\n",
    "        lambda x : x**2,\n",
    "        a\n",
    "    )\n",
    ")"
   ]
  }
 ],
 "metadata": {
  "kernelspec": {
   "display_name": "Python 3",
   "language": "python",
   "name": "python3"
  },
  "language_info": {
   "codemirror_mode": {
    "name": "ipython",
    "version": 3
   },
   "file_extension": ".py",
   "mimetype": "text/x-python",
   "name": "python",
   "nbconvert_exporter": "python",
   "pygments_lexer": "ipython3",
   "version": "3.11.5"
  },
  "orig_nbformat": 4
 },
 "nbformat": 4,
 "nbformat_minor": 2
}
