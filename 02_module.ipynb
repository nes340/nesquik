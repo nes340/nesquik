{
 "cells": [
  {
   "cell_type": "code",
   "execution_count": 2,
   "metadata": {},
   "outputs": [
    {
     "name": "stdout",
     "output_type": "stream",
     "text": [
      "Hello World\n"
     ]
    }
   ],
   "source": [
    "# 모듈을 로드하기  \n",
    "\n",
    "# import {모듈명} \n",
    "# import {모듈명} as {별칭}\n",
    "# from {모듈명} import {모듈 안에 있는 기능}\n",
    "\n",
    "# 모듈은 변수와 함수, 클래스의 덩어리 > library는 모듈의 집합 > framework는 library의 집합 \n",
    "\n",
    "import mod_1"
   ]
  },
  {
   "cell_type": "code",
   "execution_count": 5,
   "metadata": {},
   "outputs": [
    {
     "name": "stdout",
     "output_type": "stream",
     "text": [
      "Hello World\n",
      "5050\n",
      "7\n"
     ]
    }
   ],
   "source": [
    "print(mod_1.text)\n",
    "print(mod_1.func_1(1,100))\n",
    "print(mod_1.func_2(3,4))"
   ]
  }
 ],
 "metadata": {
  "kernelspec": {
   "display_name": "Python 3",
   "language": "python",
   "name": "python3"
  },
  "language_info": {
   "codemirror_mode": {
    "name": "ipython",
    "version": 3
   },
   "file_extension": ".py",
   "mimetype": "text/x-python",
   "name": "python",
   "nbconvert_exporter": "python",
   "pygments_lexer": "ipython3",
   "version": "3.11.5"
  },
  "orig_nbformat": 4
 },
 "nbformat": 4,
 "nbformat_minor": 2
}
