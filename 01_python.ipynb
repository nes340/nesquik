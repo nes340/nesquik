{
 "cells": [
  {
   "cell_type": "code",
   "execution_count": null,
   "metadata": {},
   "outputs": [],
   "source": [
    "# 주석은 일행이 되지 않고 코드에 대한 설명을 씀  (Ctrl + /)\n",
    "# setting: .ipynb로 확장자를 한 뒤에 커널에서 jupyter 설치하기. \n",
    "# 변수를 생성하고 출력함 \n",
    "a = 10\n",
    "b = \"test\"\n",
    "print(a)\n",
    "print(b)"
   ]
  },
  {
   "cell_type": "code",
   "execution_count": null,
   "metadata": {},
   "outputs": [],
   "source": [
    "# 변수의 타입 확인\n",
    "print(type(a))\n",
    "print(type(b))"
   ]
  },
  {
   "cell_type": "code",
   "execution_count": null,
   "metadata": {},
   "outputs": [],
   "source": [
    "a = True \n",
    "print(a)\n",
    "print(type(a))\n",
    "# Ctrl + Enter, Shift + Enter로 해당 블록실행. "
   ]
  },
  {
   "cell_type": "code",
   "execution_count": null,
   "metadata": {},
   "outputs": [],
   "source": [
    "#산술연산자\n",
    "a = 7\n",
    "b = 3\n",
    "print(a+b,a-b,a*b,round(a/b,2),a//b,a%b,a**b) \n",
    "\n",
    "# 우선순위\n",
    "c = 2 \n",
    "print(a+b/c)\n",
    "print((a+b)/c)"
   ]
  },
  {
   "cell_type": "code",
   "execution_count": null,
   "metadata": {},
   "outputs": [],
   "source": [
    "# 대입연산자 \n",
    "a = 7\n",
    "print(a+3)  #10\n",
    "print(a)    #7\n",
    "a += 3\n",
    "print(a)    #10 "
   ]
  },
  {
   "cell_type": "markdown",
   "metadata": {},
   "source": [
    "### 조건문\n",
    " - 조건식을 기준으로 참인 경우 실행할 코드와 거짓인 경우 실행할 코드를 작성하기. (-를 쓰면 list 형태의 데이터를 만들겠다)"
   ]
  },
  {
   "cell_type": "code",
   "execution_count": null,
   "metadata": {},
   "outputs": [],
   "source": [
    "x = 15\n",
    "if x < 10: \n",
    "    print(\"x는 10보다 작다\")"
   ]
  },
  {
   "cell_type": "code",
   "execution_count": null,
   "metadata": {},
   "outputs": [],
   "source": [
    "if x < 10:\n",
    "    print(\"x는 10보다 작다\")\n",
    "else: \n",
    "    print(\"x는 10보다 크거나 같다\")"
   ]
  },
  {
   "cell_type": "code",
   "execution_count": null,
   "metadata": {},
   "outputs": [],
   "source": [
    "# 조건식이 여러개인 경우\n",
    "# input()함수는 유저가 입력할 수 있는 창을 새로 만들어서 입력감을 받아옴 \n",
    "# int: recasting\n",
    "\n",
    "score = int(input(\"점수를 입력하시오:\"))\n",
    "\n",
    "if score >= 90:\n",
    "    print('A')\n",
    "elif score >= 80:\n",
    "    print('B')\n",
    "elif score >= 70:\n",
    "    print('C')\n",
    "elif score >= 60:\n",
    "    print('D')\n",
    "else :\n",
    "    print('안타깝네요')\n",
    "print('다음 학기에 또 봅시다')"
   ]
  },
  {
   "cell_type": "markdown",
   "metadata": {},
   "source": [
    "### 반복문\n",
    "- for 문\n",
    "    - 자료형 데이터의 개수만큼 반복 실행\n",
    "- while 문\n",
    "    - 해당하는 조건식이 거짓일 때까지 반복 실행"
   ]
  },
  {
   "cell_type": "code",
   "execution_count": null,
   "metadata": {},
   "outputs": [],
   "source": [
    "# range\n",
    "print(range(0,5,1))\n",
    "print(list(range(0,5,1)))\n",
    "print(tuple(range(0,4,2)))\n",
    "\n",
    "# for 예시:\n",
    "for i in range(0,5,1):\n",
    "    print(i)\n",
    "for i in range(5):      # 기본적으로 0에서 시작해서 증가값을 1이라고 생각함 \n",
    "    print(i)"
   ]
  },
  {
   "cell_type": "code",
   "execution_count": null,
   "metadata": {},
   "outputs": [],
   "source": [
    "list_a = [\"지리산\",\"한라산\",\"설악산\",\"북한산\"]\n",
    "for i in list_a:\n",
    "    print(i)\n",
    "print(len(list_a))\n",
    "print(list_a[2])"
   ]
  },
  {
   "cell_type": "code",
   "execution_count": null,
   "metadata": {},
   "outputs": [],
   "source": [
    "for i in range(0,len(list_a),1):\n",
    "        print(list_a[i])"
   ]
  },
  {
   "cell_type": "code",
   "execution_count": null,
   "metadata": {},
   "outputs": [],
   "source": [
    "# 1부터 10까지의 합계 계산\n",
    "\n",
    "sum = 0\n",
    "for i in range(1,11,1):     # i는 1부터 10까지 해당됨 \n",
    "    sum += i\n",
    "print(sum)"
   ]
  },
  {
   "cell_type": "code",
   "execution_count": null,
   "metadata": {},
   "outputs": [],
   "source": [
    "# 다중 for 문\n",
    "for i in range(0,5,1):\n",
    "    for j in range(0,5,1):\n",
    "        print(i,j)"
   ]
  },
  {
   "cell_type": "code",
   "execution_count": null,
   "metadata": {},
   "outputs": [],
   "source": [
    "for i in range(2,10,1):\n",
    "    print(i,'단 시작')\n",
    "    for j in range(1,10,1):        \n",
    "        print(i,'X',j,'=',i*j)\n",
    "    print(i,'단 종료')                                #print(\"%d X %d = %d\" %(i,j,i*j))\n",
    "\n",
    "# 교훈: 들여쓰기를 잘 하자! "
   ]
  },
  {
   "cell_type": "markdown",
   "metadata": {},
   "source": [
    "### 반복문 예제문제\n",
    "1. 1부터 50까지의 숫자 중 3의 배수의 합계를 구하기. \n",
    "    - 합계라는 초기값을 지정. \n",
    "    - for문을 이용하여 1부터 50까지 반복을 하는 반복문 생성.\n",
    "    - 1부터 50까지의 합계\n",
    "    - 조건식을 이용하여 3의 배수인 경우에만 합계에 더해질 수 있도록 조건문 생성. \n",
    "2. 다중조건문제: 두 개의 주사위의 합이 5 이상인 경우를 출력하시오 \n",
    "    - 첫 번째 반복문에서 첫 번째 주사위의 경우의 수를 반복문으로 생성.\n",
    "    - 두 번째 반복문에서 두 번째 주사위의 경우의 수를 반복문으로 생성. \n",
    "    - 2개 주사위의 합이 5보다 크다는 조건식 : 조건식이 참이면 두 주사위의 숫자를 출력. "
   ]
  },
  {
   "cell_type": "code",
   "execution_count": null,
   "metadata": {},
   "outputs": [],
   "source": [
    "sum1 = 0\n",
    "sum2 = 0\n",
    "\n",
    "for i in range(1,51,1):\n",
    "    sum1 += i\n",
    "    if i%3 == 0:\n",
    "        sum2 += i\n",
    "    else: \n",
    "        sum2 += 0\n",
    "\n",
    "print(sum1)\n",
    "print(sum2) "
   ]
  },
  {
   "cell_type": "code",
   "execution_count": 94,
   "metadata": {},
   "outputs": [
    {
     "name": "stdout",
     "output_type": "stream",
     "text": [
      "1 6\n",
      "2 5\n",
      "2 6\n",
      "3 4\n",
      "3 5\n",
      "3 6\n",
      "4 3\n",
      "4 4\n",
      "4 5\n",
      "4 6\n",
      "5 2\n",
      "5 3\n",
      "5 4\n",
      "5 5\n",
      "5 6\n",
      "6 1\n",
      "6 2\n",
      "6 3\n",
      "6 4\n",
      "6 5\n",
      "6 6\n"
     ]
    }
   ],
   "source": [
    "sum = 0\n",
    "\n",
    "for i in range(1,7,1):\n",
    "    for j in range(1,7,1):\n",
    "        sum = i+j\n",
    "        if sum >= 7:\n",
    "            print(i,j)\n"
   ]
  },
  {
   "cell_type": "markdown",
   "metadata": {},
   "source": [
    "### While문"
   ]
  },
  {
   "cell_type": "code",
   "execution_count": null,
   "metadata": {},
   "outputs": [],
   "source": [
    "# 초기값 선정\n",
    "i = 0\n",
    "while i < 10:\n",
    "    print(i)\n",
    "    i += 1      # 요거 안 적으면 컴퓨터가 싫어함 "
   ]
  },
  {
   "cell_type": "code",
   "execution_count": 104,
   "metadata": {},
   "outputs": [
    {
     "name": "stdout",
     "output_type": "stream",
     "text": [
      "55\n",
      "65\n"
     ]
    }
   ],
   "source": [
    "# while을 통해서 1부터 10까지의 합\n",
    "\n",
    "result = 0\n",
    "i = 1\n",
    "while i <= 10:\n",
    "    result += i     # result에 i를 누적합 \n",
    "    i += 1\n",
    "print(result)\n",
    "\n",
    "result2 = 0\n",
    "i = 1\n",
    "while i <= 10:\n",
    "    i += 1\n",
    "    result2 += i     # result에 i를 누적합    \n",
    "print(result2)\n",
    "\n",
    "# 보통 i를 더하는 건 loop 마지막에. "
   ]
  },
  {
   "cell_type": "code",
   "execution_count": null,
   "metadata": {},
   "outputs": [],
   "source": [
    "# Break: 반복문 멈춰! \n",
    "for i in range(1,101,1):\n",
    "    print(i)\n",
    "    if i == 5:\n",
    "        break\n"
   ]
  },
  {
   "cell_type": "code",
   "execution_count": 110,
   "metadata": {},
   "outputs": [
    {
     "name": "stdout",
     "output_type": "stream",
     "text": [
      "3\n",
      "4\n",
      "5\n",
      "6\n",
      "7\n",
      "8\n",
      "9\n"
     ]
    }
   ],
   "source": [
    "# Continue: 반복문으로 돌아간다\n",
    "for i in range(1,10,1):\n",
    "    if i < 3: \n",
    "        continue \n",
    "    print(i)"
   ]
  },
  {
   "cell_type": "markdown",
   "metadata": {},
   "source": [
    "### 예제 문제 / break문\n",
    "- 반복문을 이용하여 1부터 100까지의 합계를 구하는데, 합계가 1200이 넘어가는 순간 i 값과 합계를 출력하시오.\n",
    "    - 합계라는 초기값을 지정\n",
    "    - 1부터 100까지 반복을 하는 반복문 생성\n",
    "    - 합계 변수에 반복문의 i값을 누적함 \n",
    "    - 누적합이 1200보다 크다면 반복문을 종료\n",
    "    - i의 값과 합계의 값을 출력하세요 "
   ]
  },
  {
   "cell_type": "code",
   "execution_count": 134,
   "metadata": {},
   "outputs": [
    {
     "name": "stdout",
     "output_type": "stream",
     "text": [
      "63에서 합이 2004을 초과했고, 그 때의 합은 2016입니다\n"
     ]
    }
   ],
   "source": [
    "result = 0\n",
    "i = 1\n",
    "target = int(input(\"원하는 목표를 입력하시오:\"))\n",
    "while i <= 100:\n",
    "    result += i\n",
    "    if result >= target:\n",
    "        break\n",
    "    i += 1\n",
    "print(f\"{i}에서 합이 {target}을 초과했고, 그 때의 합은 {result}입니다\")"
   ]
  },
  {
   "cell_type": "markdown",
   "metadata": {},
   "source": [
    "### f 함수"
   ]
  },
  {
   "cell_type": "code",
   "execution_count": 133,
   "metadata": {},
   "outputs": [
    {
     "name": "stdout",
     "output_type": "stream",
     "text": [
      "1부터 100까지의 합계 중 합계의 값이 1200보다 큰 경우는 49까지의 합이고, 합계값은 1225이다\n"
     ]
    }
   ],
   "source": [
    "result = 0\n",
    "for i in range(1,101,1):\n",
    "    result += i\n",
    "    if result > 1200:\n",
    "        print(f\"1부터 100까지의 합계 중 합계의 값이 1200보다 큰 경우는 {i}까지의 합이고, 합계값은 {result}이다\")\n",
    "        break\n",
    "\n",
    "# f 함수"
   ]
  },
  {
   "cell_type": "markdown",
   "metadata": {},
   "source": [
    "### 자료형 데이터\n",
    "1. Tuple\n",
    "    - 자료형 데이터에서 가장 기본적인 형태의 데이터\n",
    "    - ()로 묶어서 데이터 생성\n",
    "    - 각 원소들을 수정 및 삭제할 수 '없음'\n",
    "2. List\n",
    "    - []로 묶어서 데이터 생성\n",
    "    - 내장함수를 이용해서 각 원소들을 수정, 추가, 삭제 가능 \n",
    "3. Dictionary \n",
    "    - {} 묶어서 데이터를 생성. \n",
    "    - key : value 형태로 데이터가 생성 \n",
    "    - 각 원소들을 수정, 삭제, 추가가 가능함. "
   ]
  },
  {
   "cell_type": "code",
   "execution_count": 144,
   "metadata": {},
   "outputs": [
    {
     "name": "stdout",
     "output_type": "stream",
     "text": [
      "17\n"
     ]
    }
   ],
   "source": [
    "no = int(input(\"숫자를 입력하세요:\"))\n",
    "tgt = int(input(\"몇진법으로 바꿀까요:\"))\n",
    "no2 = no\n",
    "for i in range(1,100,1):\n",
    "    no2 = no2 - tgt^i\n",
    "    if no2 <= 0:\n",
    "        break\n",
    "    i += 1\n",
    "print(i)"
   ]
  }
 ],
 "metadata": {
  "kernelspec": {
   "display_name": "Python 3",
   "language": "python",
   "name": "python3"
  },
  "language_info": {
   "codemirror_mode": {
    "name": "ipython",
    "version": 3
   },
   "file_extension": ".py",
   "mimetype": "text/x-python",
   "name": "python",
   "nbconvert_exporter": "python",
   "pygments_lexer": "ipython3",
   "version": "3.11.5"
  },
  "orig_nbformat": 4
 },
 "nbformat": 4,
 "nbformat_minor": 2
}
