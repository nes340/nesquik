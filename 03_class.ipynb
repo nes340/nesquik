{
 "cells": [
  {
   "cell_type": "markdown",
   "metadata": {},
   "source": [
    "### Class\n",
    "1. 변수, 함수의 결합 \n",
    "2. \"붕어빵의 틀\"\n",
    "    - 변수는 반죽과 소\n",
    "    - 함수는 레시피 \n",
    "3. Class 선언할 때 Class 이름은 앞글자를 대문자로 표시\n",
    "4. 만드는 방법: Class라는 키워드를 이용함 \n",
    "5. Class에는 __특수한 함수__ 가 존재한다. \n",
    "    - 생성자 함수(초기화 함수)\n",
    "        - Class를 생성할 때 한 번만 실행되는 함수. \n",
    "        - `__init__` 로 표시함  \n",
    "6. Class에는 __특수한 매개변수__ 도 존재한다.\n",
    "    - Self 매개변수\n",
    "        - Class의 위치(주소)를 뜻\n",
    "        - 메모리에 저장된 공간의 이름을 '변수', self는 class가 저장되어지는 변수\n",
    "\n",
    "tip. 언더바 1개는 italic, 2개는 굵은 글씨, 3개는 italic+굵은 글씨 \n"
   ]
  },
  {
   "cell_type": "code",
   "execution_count": 2,
   "metadata": {},
   "outputs": [],
   "source": [
    "# class 선언 \n",
    "\n",
    "class Test1: \n",
    "    a = 1 \n",
    "\n",
    "    def func_1(self, x):\n",
    "        result = x + self.a\n",
    "        return result\n",
    "    "
   ]
  },
  {
   "cell_type": "code",
   "execution_count": 3,
   "metadata": {},
   "outputs": [],
   "source": [
    "# class를 생성: 메모리 안 특정한 공간에 class를 저장. \n",
    "class_1 = Test1()"
   ]
  },
  {
   "cell_type": "code",
   "execution_count": 7,
   "metadata": {},
   "outputs": [
    {
     "name": "stdout",
     "output_type": "stream",
     "text": [
      "1\n",
      "6\n"
     ]
    }
   ],
   "source": [
    "print(class_1.a)\n",
    "print(class_1.func_1(5))        # 위에서 Test1()이라는 클래스를 class_1라는 변수에 '저장'한다고 했음. "
   ]
  },
  {
   "cell_type": "code",
   "execution_count": 8,
   "metadata": {},
   "outputs": [],
   "source": [
    "# 생성자 함수가 존재하는 클래스를 선언\n",
    "\n",
    "class Test2:\n",
    "    def __init__(self,_x,_y):       # 변수의 값을 대입해서 집어넣어주는 과정  # self는 결국 다른 공간을 만들기 위한 방식 \n",
    "        self.x = _x\n",
    "        self.y = _y\n",
    "\n",
    "    def add(self):\n",
    "        result = self.x + self.y \n",
    "        return result "
   ]
  },
  {
   "cell_type": "code",
   "execution_count": 12,
   "metadata": {},
   "outputs": [
    {
     "name": "stdout",
     "output_type": "stream",
     "text": [
      "5 3\n",
      "10 20\n",
      "8\n"
     ]
    }
   ],
   "source": [
    "# class를 생성함 \n",
    "# 생성자 함수가 존재하므로 class 생성시 인자값이 필요하다. \n",
    "class_2 = Test2(5,3)        \n",
    "class_3 = Test2(10,20)\n",
    "print(class_2.x, class_2.y)     # class_2라는 전역변수 안에 x,y라는 지역변수를 만들어버림 \n",
    "print(class_3.x, class_3.y)\n",
    "print(class_2.add())            # add 인자는 self밖에 없으니 \n",
    "print(class_3.add())"
   ]
  },
  {
   "cell_type": "code",
   "execution_count": 22,
   "metadata": {},
   "outputs": [
    {
     "name": "stdout",
     "output_type": "stream",
     "text": [
      "100\n",
      "10\n"
     ]
    }
   ],
   "source": [
    "class monster:\n",
    "    def __init__(self,HP,DMG):\n",
    "        self.hp = HP\n",
    "        self.dmg = DMG\n",
    "    def power(self):\n",
    "        result = self.hp * self.dmg\n",
    "        return result\n",
    "\n",
    "class_2  = monster(10,10)\n",
    "print(class_2.power())\n",
    "print(class_2.hp)"
   ]
  },
  {
   "cell_type": "code",
   "execution_count": 45,
   "metadata": {},
   "outputs": [],
   "source": [
    "# 유저와 정보를 입력하는 class 선언 \n",
    "# self 변수: 생성되는 class마다 독립적인 변수를 만들게끔 함 \n",
    "# class 변수 : 같은 class를 가지고 class가 생성될 때 공유될 수 있는 변수\n",
    "\n",
    "class User:\n",
    "    # class 변수 생성 >> 해당하는 class에서 공유하는 변수  \n",
    "    user_list = []               # 요 변수는 다른 객체들 사이에서도 '공유'할 수 있음 \n",
    "\n",
    "    def __init__(self, _name, _age, _phone):\n",
    "        self.name = _name       # _를 붙이면 입력받은 변수라는 의미 (꼭 _를 쓸 이유는 없음)\n",
    "        self.age = _age\n",
    "        self.phone = _phone\n",
    "        # class 변수의 이름값을 추가 \n",
    "        self.user_list.append(_name)\n",
    "\n",
    "    def info(self):\n",
    "        result = f'이름은 {self.name}, 나이는 {self.age}, 휴대폰 번호는 {self.phone}입니다'\n",
    "        return result "
   ]
  },
  {
   "cell_type": "code",
   "execution_count": 52,
   "metadata": {},
   "outputs": [
    {
     "data": {
      "text/plain": [
       "'이름은 Kim, 나이는 20, 휴대폰 번호는 01012345678입니다'"
      ]
     },
     "execution_count": 52,
     "metadata": {},
     "output_type": "execute_result"
    }
   ],
   "source": [
    "user1 = User('Kim',20,'01012345678')\n",
    "user2 = User('Park',30,'01098765432')\n",
    "user1.info()"
   ]
  },
  {
   "cell_type": "code",
   "execution_count": 47,
   "metadata": {},
   "outputs": [
    {
     "name": "stdout",
     "output_type": "stream",
     "text": [
      "Kim 20 01012345678 ['Kim', 'Park']\n",
      "Park 30 01098765432 ['Kim', 'Park']\n"
     ]
    }
   ],
   "source": [
    "print(user1.name,user1.age,user1.phone,user1.user_list)\n",
    "print(user2.name,user2.age,user2.phone,user2.user_list)"
   ]
  },
  {
   "cell_type": "markdown",
   "metadata": {},
   "source": [
    "### 클래스 변수의 개념\n",
    "- user (user_list = [])            \n",
    "    - user1에 name, age, phone은 self로 선언\n",
    "    - user2에 name, age, phone은 self로 선언 \n",
    "- user_list를 선언하면서 user1, user2마다 user_list라는 '클래스 변수'가 각각 생산 \n",
    "\n",
    "* 함수와 친숙해진 다음 클래스를 이용하는 걸 추천.   "
   ]
  },
  {
   "cell_type": "markdown",
   "metadata": {},
   "source": [
    "### 상속"
   ]
  },
  {
   "cell_type": "code",
   "execution_count": 92,
   "metadata": {},
   "outputs": [],
   "source": [
    "# class class명(상속받을 클래스명): \n",
    "\n",
    "class Wallet(User): \n",
    "    # User 클래스에서 기능\n",
    "        # User의 정보를 변수에 담아주는 생성자 함수\n",
    "        # user의 정보를 되돌려주는 함수\n",
    "\n",
    "    # 생성자 함수 > User 클래스에 있는 생성자 함수 실행, self.변수 추가 \n",
    "    def __init__(self,_name,_age,_phone,_brand,_balance):\n",
    "        self.brand = _brand\n",
    "        self.balance = _balance \n",
    "        # 부모클래스를 지정: super()\n",
    "        super().__init__(_name,_age,_phone)\n",
    "\n",
    "    def wallet_info(self):\n",
    "        result = f'지갑의 소유자는 {self.name}이고 지갑의 잔액은 {self.balance}입니다'\n",
    "        return result\n",
    "    \n",
    "    # 일을 하는 함수\n",
    "    def work(self, _kind):\n",
    "        if(_kind == 'Hunt'):   # 일의 종류에 따라 지갑의 잔액이 변경함 \n",
    "            self.balance += 500\n",
    "            result = f'{_kind}의 일을 완료하였습니다. 현재 잔액은 {self.balance}입니다.'\n",
    "        elif(_kind == 'Serving'):\n",
    "            self.balance += 700 \n",
    "            result = f'{_kind}의 일을 완료하였습니다. 현재 잔액은 {self.balance}입니다.'\n",
    "        else: \n",
    "            result = '일의 타입이 맞지 않습니다'\n",
    "        return result # _kind가 'hunt' 혹은 'serving'일 때 실행되는 return "
   ]
  },
  {
   "cell_type": "code",
   "execution_count": 93,
   "metadata": {},
   "outputs": [],
   "source": [
    "wallet1 = Wallet('Kim',20,'01012345678','Gucci',0)"
   ]
  },
  {
   "cell_type": "code",
   "execution_count": 94,
   "metadata": {},
   "outputs": [
    {
     "data": {
      "text/plain": [
       "'이름은 Kim, 나이는 20, 휴대폰 번호는 01012345678입니다'"
      ]
     },
     "execution_count": 94,
     "metadata": {},
     "output_type": "execute_result"
    }
   ],
   "source": [
    "wallet1.info()"
   ]
  },
  {
   "cell_type": "code",
   "execution_count": 95,
   "metadata": {},
   "outputs": [
    {
     "data": {
      "text/plain": [
       "'지갑의 소유자는 Kim이고 지갑의 잔액은 0입니다'"
      ]
     },
     "execution_count": 95,
     "metadata": {},
     "output_type": "execute_result"
    }
   ],
   "source": [
    "wallet1.wallet_info()"
   ]
  },
  {
   "cell_type": "code",
   "execution_count": 96,
   "metadata": {},
   "outputs": [
    {
     "data": {
      "text/plain": [
       "'Hunt의 일을 완료하였습니다. 현재 잔액은 500입니다.'"
      ]
     },
     "execution_count": 96,
     "metadata": {},
     "output_type": "execute_result"
    }
   ],
   "source": [
    "wallet1.work('Hunt')"
   ]
  },
  {
   "cell_type": "code",
   "execution_count": 97,
   "metadata": {},
   "outputs": [],
   "source": [
    "wallet2 = Wallet('Park',30,'01098765432','Chanel',0)"
   ]
  },
  {
   "cell_type": "code",
   "execution_count": 98,
   "metadata": {},
   "outputs": [
    {
     "data": {
      "text/plain": [
       "'지갑의 소유자는 Park이고 지갑의 잔액은 0입니다'"
      ]
     },
     "execution_count": 98,
     "metadata": {},
     "output_type": "execute_result"
    }
   ],
   "source": [
    "wallet2.wallet_info()"
   ]
  },
  {
   "cell_type": "code",
   "execution_count": 100,
   "metadata": {},
   "outputs": [
    {
     "data": {
      "text/plain": [
       "'Serving의 일을 완료하였습니다. 현재 잔액은 700입니다.'"
      ]
     },
     "execution_count": 100,
     "metadata": {},
     "output_type": "execute_result"
    }
   ],
   "source": [
    "wallet2.work('Serving')"
   ]
  }
 ],
 "metadata": {
  "kernelspec": {
   "display_name": "Python 3",
   "language": "python",
   "name": "python3"
  },
  "language_info": {
   "codemirror_mode": {
    "name": "ipython",
    "version": 3
   },
   "file_extension": ".py",
   "mimetype": "text/x-python",
   "name": "python",
   "nbconvert_exporter": "python",
   "pygments_lexer": "ipython3",
   "version": "3.11.5"
  },
  "orig_nbformat": 4
 },
 "nbformat": 4,
 "nbformat_minor": 2
}
